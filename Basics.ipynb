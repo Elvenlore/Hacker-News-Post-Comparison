{
 "cells": [
  {
   "cell_type": "markdown",
   "metadata": {
    "collapsed": true
   },
   "source": [
    "**HACKER NEWS POST COMPARISON PROJECT**"
   ]
  },
  {
   "cell_type": "markdown",
   "metadata": {},
   "source": [
    "The project aims to compare two type of posts (Ask and Show) posted on [Hacker News](https://news.ycombinator.com/)  in terms of comments received.\n",
    "\n",
    "The dataset used in this project were downloaded from [here](https://www.kaggle.com/hacker-news/hacker-news-posts), however, the number of rows have been reduced from almost 300k to nearly 20k rows by removing no-comment ones and then randonmly sampling from the remaining ones.\n",
    "\n",
    "For removing unwanted datas from a dataset please refer to my project [here](https://github.com/Elvenlore/free-app-analysis/blob/main/Profitable%20Free%20App.ipynb)\n",
    "\n",
    "About **Hacker News(HN)** please  visit [here](https://en.wikipedia.org/wiki/Hacker_News)"
   ]
  },
  {
   "cell_type": "code",
   "execution_count": 1,
   "metadata": {},
   "outputs": [
    {
     "name": "stdout",
     "output_type": "stream",
     "text": [
      "[['id', 'title', 'url', 'num_points', 'num_comments', 'author', 'created_at'], ['12224879', 'Interactive Dynamic Video', 'http://www.interactivedynamicvideo.com/', '386', '52', 'ne0phyte', '8/4/2016 11:52'], ['10975351', 'How to Use Open Source and Shut the Fuck Up at the Same Time', 'http://hueniverse.com/2016/01/26/how-to-use-open-source-and-shut-the-fuck-up-at-the-same-time/', '39', '10', 'josep2', '1/26/2016 19:30']]\n"
     ]
    }
   ],
   "source": [
    "Opened_file_HN = open(\"hacker_news.csv\")\n",
    "from csv import reader\n",
    "read_file = reader(Opened_file_HN)\n",
    "hn = list(read_file)\n",
    "\n",
    "print(hn[:3])\n"
   ]
  },
  {
   "cell_type": "markdown",
   "metadata": {},
   "source": [
    "|Column Headers|Description|\n",
    "|---|--------------|\n",
    "|id:|the unique identifier from Hacker News for the post|\n",
    "|title:| the title of the post|\n",
    "|url:| the URL that the posts links to, if the post has a URL\n",
    "|num_points:| the number of points the post acquired, calculated as the total number of upvotes minus the total number of downvotes\n",
    "|num_comments:| the number of comments on the post\n",
    "|author:| the username of the person who submitted the post\n",
    "|created_at:| the date and time of the post's submission"
   ]
  },
  {
   "cell_type": "markdown",
   "metadata": {},
   "source": [
    "In order to analyze data in the dataset without encountring an inconsistency we need to remove first row as it contains only coloumn headers."
   ]
  },
  {
   "cell_type": "code",
   "execution_count": 2,
   "metadata": {},
   "outputs": [
    {
     "name": "stdout",
     "output_type": "stream",
     "text": [
      "['id', 'title', 'url', 'num_points', 'num_comments', 'author', 'created_at']\n"
     ]
    }
   ],
   "source": [
    "headers = hn[0]\n",
    "print(headers)\n"
   ]
  },
  {
   "cell_type": "code",
   "execution_count": 3,
   "metadata": {
    "scrolled": true
   },
   "outputs": [
    {
     "name": "stdout",
     "output_type": "stream",
     "text": [
      "[['12224879', 'Interactive Dynamic Video', 'http://www.interactivedynamicvideo.com/', '386', '52', 'ne0phyte', '8/4/2016 11:52'], ['10975351', 'How to Use Open Source and Shut the Fuck Up at the Same Time', 'http://hueniverse.com/2016/01/26/how-to-use-open-source-and-shut-the-fuck-up-at-the-same-time/', '39', '10', 'josep2', '1/26/2016 19:30'], ['11964716', \"Florida DJs May Face Felony for April Fools' Water Joke\", 'http://www.thewire.com/entertainment/2013/04/florida-djs-april-fools-water-joke/63798/', '2', '1', 'vezycash', '6/23/2016 22:20']]\n"
     ]
    }
   ],
   "source": [
    "hn = hn[1:]\n",
    "print(hn[:3])"
   ]
  },
  {
   "cell_type": "markdown",
   "metadata": {},
   "source": [
    "In line with the aim of the project, firstly, the posts that begin with either **Ask HN** or **Show HN** should be determined."
   ]
  },
  {
   "cell_type": "code",
   "execution_count": 4,
   "metadata": {},
   "outputs": [
    {
     "name": "stdout",
     "output_type": "stream",
     "text": [
      "1744\n",
      "1162\n",
      "17194\n"
     ]
    }
   ],
   "source": [
    "ask_posts = [] # This list will include posts start with \"ask hn\"\n",
    "show_posts = [] # This list will include posts start with \"show hn\"\n",
    "other_posts = [] # List for posts neither start with \"ask hn\" nor \"show hn\" \n",
    "\n",
    "for row in hn:\n",
    "    title = row[1].lower()\n",
    "        \n",
    "    if title.startswith(\"ask hn\"):\n",
    "        ask_posts.append(row)\n",
    "    elif title.startswith(\"show hn\"):\n",
    "        show_posts.append(row)\n",
    "    else:\n",
    "        other_posts.append(row)\n",
    "\n",
    "print(len(ask_posts))\n",
    "print(len(show_posts))\n",
    "print(len(other_posts))"
   ]
  },
  {
   "cell_type": "code",
   "execution_count": 5,
   "metadata": {
    "scrolled": true
   },
   "outputs": [
    {
     "name": "stdout",
     "output_type": "stream",
     "text": [
      "[['12296411', 'Ask HN: How to improve my personal website?', '', '2', '6', 'ahmedbaracat', '8/16/2016 9:55'], ['10610020', 'Ask HN: Am I the only one outraged by Twitter shutting down share counts?', '', '28', '29', 'tkfx', '11/22/2015 13:43'], ['11610310', 'Ask HN: Aby recent changes to CSS that broke mobile?', '', '1', '1', 'polskibus', '5/2/2016 10:14']]\n",
      "\n",
      "\n",
      "[['10627194', 'Show HN: Wio Link  ESP8266 Based Web of Things Hardware Development Platform', 'https://iot.seeed.cc', '26', '22', 'kfihihc', '11/25/2015 14:03'], ['10646440', 'Show HN: Something pointless I made', 'http://dn.ht/picklecat/', '747', '102', 'dhotson', '11/29/2015 22:46'], ['11590768', 'Show HN: Shanhu.io, a programming playground powered by e8vm', 'https://shanhu.io', '1', '1', 'h8liu', '4/28/2016 18:05']]\n"
     ]
    }
   ],
   "source": [
    "print(ask_posts[:3])\n",
    "print(\"\\n\")\n",
    "print(show_posts[:3])"
   ]
  },
  {
   "cell_type": "markdown",
   "metadata": {},
   "source": [
    "**Calculation of Average number of Comments-** Let's determine which one gets, on average, more comments than the other."
   ]
  },
  {
   "cell_type": "code",
   "execution_count": 6,
   "metadata": {},
   "outputs": [
    {
     "name": "stdout",
     "output_type": "stream",
     "text": [
      "Average number of comments for per post for Ask HN is 14.04\n",
      "\n",
      "\n",
      "Average number of comments for per post for Show HN is 10.32\n"
     ]
    }
   ],
   "source": [
    "total_ask_comments = 0\n",
    "for row in ask_posts:\n",
    "    b = int(row[4]) # index number is 4 for number of comments\n",
    "    total_ask_comments +=b\n",
    "avg_ask_comments = total_ask_comments/len(ask_posts)\n",
    "print(\"Average number of comments for per post for Ask HN is \"+ str(round(avg_ask_comments,2)))\n",
    "print(\"\\n\")\n",
    "\n",
    "total_show_comments = 0\n",
    "for row in show_posts:\n",
    "    b = int(row[4]) # index number is 4 for number of comments\n",
    "    total_show_comments +=b\n",
    "avg_show_comments = total_show_comments/len(show_posts)\n",
    "print(\"Average number of comments for per post for Show HN is \" + str(round(avg_show_comments,2)))\n",
    "\n",
    "\n"
   ]
  },
  {
   "cell_type": "markdown",
   "metadata": {},
   "source": [
    "**First finding -** As per the result above,on average, the posts start with \"Ask HN\" has taken more comments than those beginning with  with \"Show HN\""
   ]
  },
  {
   "cell_type": "markdown",
   "metadata": {},
   "source": [
    "**Consideration of time element -** Further to the above findings, let's take a look at the time the post was created to determine which time is more likely to attract comments."
   ]
  },
  {
   "cell_type": "code",
   "execution_count": 7,
   "metadata": {},
   "outputs": [],
   "source": [
    "import datetime as dt #we need datetime module-- \n",
    "# --as we work on time\n",
    "result_list = [] # list of list\n",
    "for row in ask_posts:\n",
    "    date_created = row[6] # first element\n",
    "    #created_at column is the seventh column in ask_posts\n",
    "    number_of_comment = int(row[4])\n",
    "    result_list.append([date_created,number_of_comment])\n",
    "\n",
    "\n",
    "counts_by_hour = {} #contains the number of ask posts-- \n",
    "# --created during each hour of the day\n",
    "comments_by_hour = {} #contains the corresponding number of comments-- \n",
    "#--ask posts created at each hour received.\n",
    "for row in result_list:\n",
    "    hour = row[0]\n",
    "    dt_object = dt.datetime.strptime(hour,\"%m/%d/%Y %H:%M\") #creating the object to parse the time info \n",
    "    dt_string = dt_object.strftime(\"%H\") #parsing the time info\n",
    "    if dt_string not in counts_by_hour:\n",
    "        counts_by_hour[dt_string] = 1\n",
    "        comments_by_hour[dt_string] = row[1]\n",
    "    else:\n",
    "        counts_by_hour[dt_string] +=1\n",
    "        comments_by_hour[dt_string] += row[1]"
   ]
  },
  {
   "cell_type": "markdown",
   "metadata": {},
   "source": [
    "**Finding the time when the most comments made -** After creating above two dictionaries we can calculate average number of comments for posts created during each hour of the day."
   ]
  },
  {
   "cell_type": "code",
   "execution_count": 8,
   "metadata": {
    "scrolled": true
   },
   "outputs": [
    {
     "name": "stdout",
     "output_type": "stream",
     "text": [
      "[['09', 5.58], ['13', 14.74], ['10', 13.44], ['14', 13.23], ['16', 16.8], ['23', 7.99], ['12', 9.41], ['17', 11.46], ['15', 38.59], ['21', 16.01], ['20', 21.52], ['02', 23.81], ['18', 13.2], ['03', 7.8], ['05', 10.09], ['19', 10.8], ['01', 11.38], ['22', 6.75], ['08', 10.25], ['04', 7.17], ['00', 8.13], ['06', 9.02], ['07', 7.85], ['11', 11.05]]\n"
     ]
    }
   ],
   "source": [
    "avg_by_hour =[]\n",
    "for (k,v), (k1,v1) in zip(counts_by_hour.items(), comments_by_hour.items()):\n",
    "    if k == k1:\n",
    "        avg_by_hour.append([k,round(v1/v,2)])\n",
    "    else:\n",
    "        break\n",
    "print(avg_by_hour)"
   ]
  },
  {
   "cell_type": "markdown",
   "metadata": {},
   "source": [
    "**Uncluttering-** Hooray! we have the result. but wait! Doesn't it look a little messy to you?"
   ]
  },
  {
   "cell_type": "code",
   "execution_count": 10,
   "metadata": {},
   "outputs": [
    {
     "name": "stdout",
     "output_type": "stream",
     "text": [
      "[[5.58, '09'], [14.74, '13'], [13.44, '10'], [13.23, '14'], [16.8, '16'], [7.99, '23'], [9.41, '12'], [11.46, '17'], [38.59, '15'], [16.01, '21'], [21.52, '20'], [23.81, '02'], [13.2, '18'], [7.8, '03'], [10.09, '05'], [10.8, '19'], [11.38, '01'], [6.75, '22'], [10.25, '08'], [7.17, '04'], [8.13, '00'], [9.02, '06'], [7.85, '07'], [11.05, '11']]\n"
     ]
    }
   ],
   "source": [
    "swap_avg_by_hour = []\n",
    "for row in avg_by_hour:\n",
    "    swap_avg_by_hour.append([row[1],row[0]])\n",
    "print(swap_avg_by_hour)"
   ]
  },
  {
   "cell_type": "code",
   "execution_count": 42,
   "metadata": {},
   "outputs": [
    {
     "name": "stdout",
     "output_type": "stream",
     "text": [
      "Top 5 Hours for Ask Posts Comments\n",
      "15:00: 38.59 average comments per post\n",
      "02:00: 23.81 average comments per post\n",
      "20:00: 21.52 average comments per post\n",
      "16:00: 16.80 average comments per post\n",
      "21:00: 16.01 average comments per post\n"
     ]
    }
   ],
   "source": [
    "sorted_swap=sorted(swap_avg_by_hour,reverse=True)\n",
    "\n",
    "print(\"Top 5 Hours for Ask Posts Comments\")\n",
    "for avg,hour in sorted_swap[:5]:\n",
    "    dt_object = dt.datetime.strptime(hour,\"%H\")\n",
    "    dt_string = dt_object.strftime(\"%H:%M\")\n",
    "    print(\"{time}: {comm:.2f} average comments per post\".format(time=dt_string,comm=avg)) \n",
    "    \n",
    "\n",
    "    "
   ]
  }
 ],
 "metadata": {
  "kernelspec": {
   "display_name": "Python 3",
   "language": "python",
   "name": "python3"
  },
  "language_info": {
   "codemirror_mode": {
    "name": "ipython",
    "version": 3
   },
   "file_extension": ".py",
   "mimetype": "text/x-python",
   "name": "python",
   "nbconvert_exporter": "python",
   "pygments_lexer": "ipython3",
   "version": "3.8.2"
  }
 },
 "nbformat": 4,
 "nbformat_minor": 2
}
